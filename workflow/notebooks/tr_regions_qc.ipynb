{
 "cells": [
  {
   "cell_type": "code",
   "execution_count": 1,
   "id": "domestic-payroll",
   "metadata": {},
   "outputs": [
    {
     "ename": "ModuleNotFoundError",
     "evalue": "No module named 'seaborn'",
     "output_type": "error",
     "traceback": [
      "\u001b[0;31m---------------------------------------------------------------------------\u001b[0m",
      "\u001b[0;31mModuleNotFoundError\u001b[0m                       Traceback (most recent call last)",
      "\u001b[1;32m/defrabb_runs/code_base/adotto-smk/workflow/notebooks/tr_regions_qc.ipynb Cell 1\u001b[0m line \u001b[0;36m2\n\u001b[1;32m      <a href='vscode-notebook-cell://ssh-remote%2Bgiabws/defrabb_runs/code_base/adotto-smk/workflow/notebooks/tr_regions_qc.ipynb#W0sdnNjb2RlLXJlbW90ZQ%3D%3D?line=0'>1</a>\u001b[0m \u001b[39mimport\u001b[39;00m \u001b[39mpandas\u001b[39;00m \u001b[39mas\u001b[39;00m \u001b[39mpd\u001b[39;00m\n\u001b[0;32m----> <a href='vscode-notebook-cell://ssh-remote%2Bgiabws/defrabb_runs/code_base/adotto-smk/workflow/notebooks/tr_regions_qc.ipynb#W0sdnNjb2RlLXJlbW90ZQ%3D%3D?line=1'>2</a>\u001b[0m \u001b[39mimport\u001b[39;00m \u001b[39mseaborn\u001b[39;00m \u001b[39mas\u001b[39;00m \u001b[39msb\u001b[39;00m\n\u001b[1;32m      <a href='vscode-notebook-cell://ssh-remote%2Bgiabws/defrabb_runs/code_base/adotto-smk/workflow/notebooks/tr_regions_qc.ipynb#W0sdnNjb2RlLXJlbW90ZQ%3D%3D?line=2'>3</a>\u001b[0m \u001b[39mimport\u001b[39;00m \u001b[39mmatplotlib\u001b[39;00m\u001b[39m.\u001b[39;00m\u001b[39mpyplot\u001b[39;00m \u001b[39mas\u001b[39;00m \u001b[39mplt\u001b[39;00m\n\u001b[1;32m      <a href='vscode-notebook-cell://ssh-remote%2Bgiabws/defrabb_runs/code_base/adotto-smk/workflow/notebooks/tr_regions_qc.ipynb#W0sdnNjb2RlLXJlbW90ZQ%3D%3D?line=3'>4</a>\u001b[0m \u001b[39mimport\u001b[39;00m \u001b[39mjoblib\u001b[39;00m\n",
      "\u001b[0;31mModuleNotFoundError\u001b[0m: No module named 'seaborn'"
     ]
    }
   ],
   "source": [
    "import pandas as pd\n",
    "import seaborn as sb\n",
    "import matplotlib.pyplot as plt\n",
    "import joblib"
   ]
  },
  {
   "cell_type": "code",
   "execution_count": null,
   "id": "together-comparison",
   "metadata": {},
   "outputs": [],
   "source": [
    "data = pd.read_csv(\"../data/region_stats.txt\", sep='\\t')\n",
    "orig_sources = ['baylor', 'giab', 'pacbio', 'ucsd1', 'ucsd2']\n",
    "data.head()"
   ]
  },
  {
   "cell_type": "code",
   "execution_count": null,
   "id": "furnished-oxford",
   "metadata": {},
   "outputs": [],
   "source": [
    "# Input bed files' stats\n",
    "m_fontsz = 10\n",
    "fix, axs = plt.subplots(2, 2, dpi=180)\n",
    "\n",
    "plt.sca(axs[0][0])\n",
    "p = sb.barplot(data=data, x=\"source\", y=\"count\", order=orig_sources)\n",
    "p.set_title(\"Input count\", fontsize=m_fontsz)\n",
    "hide = p.set(ylabel=\"Count\")\n",
    "\n",
    "plt.sca(axs[0][1])\n",
    "p = sb.barplot(data=data, x=\"source\", y=\"tot_len\", order=orig_sources)\n",
    "p.set_title(\"Input span (bp)\", fontsize=m_fontsz)\n",
    "hide = p.set(ylabel=\"Total Span\")\n",
    "\n",
    "# Input merged bed files' stats\n",
    "plt.sca(axs[1][0])\n",
    "data['kept_count'] = data['total'] - data['removed']\n",
    "p = sb.barplot(data=data, x=\"source\", y=\"kept_count\", order=orig_sources)\n",
    "p.set_title(\"Input merged count\", fontsize=m_fontsz)\n",
    "hide = p.set(ylabel=\"Count\")\n",
    "\n",
    "plt.sca(axs[1][1])\n",
    "# Input bed files' stats\n",
    "p = sb.barplot(data=data, x=\"source\", y=\"span_kept\", order=orig_sources)\n",
    "p.set_title(\"Input merged span (bp)\", fontsize=m_fontsz)\n",
    "hide = p.set(ylabel=\"Total Span\")\n",
    "\n",
    "plt.tight_layout()"
   ]
  },
  {
   "cell_type": "code",
   "execution_count": null,
   "id": "durable-connection",
   "metadata": {},
   "outputs": [],
   "source": [
    "# Input bed files stats table\n",
    "data[data[\"source\"].isin(orig_sources)][[\"source\", 'count', 'tot_len', 'kept_count', 'span_kept']]"
   ]
  },
  {
   "cell_type": "code",
   "execution_count": null,
   "id": "crude-inspiration",
   "metadata": {},
   "outputs": [],
   "source": [
    "#Input sources merged stats\n",
    "data[data[\"source\"]==\"grand\"][[\"count\", \"tot_len\"]]"
   ]
  },
  {
   "cell_type": "code",
   "execution_count": null,
   "id": "twelve-sphere",
   "metadata": {},
   "outputs": [],
   "source": [
    "# filtering (gaps) of the grand unified bed (a.k.a. the final)\n",
    "data[data['source'] == 'final'][[\"count\", \"tot_len\"]]"
   ]
  },
  {
   "cell_type": "markdown",
   "id": "occasional-closure",
   "metadata": {},
   "source": [
    "# TRF annotations"
   ]
  },
  {
   "cell_type": "code",
   "execution_count": null,
   "id": "consolidated-anaheim",
   "metadata": {},
   "outputs": [],
   "source": [
    "regions = pd.read_csv(\"../data/tr_regions.bed.gz\", sep='\\t', names=[\"chrom\", \"start\", \"end\"])\n",
    "annos = joblib.load(\"../data/tr_annotated.jl\")\n",
    "annos['key'] = annos.apply((lambda x: f\"{x['chrom']}:{x['in_region_start']}-{x['in_region_end']}\"), axis=1)"
   ]
  },
  {
   "cell_type": "code",
   "execution_count": null,
   "id": "diverse-biology",
   "metadata": {},
   "outputs": [],
   "source": [
    "region_count = len(regions)\n",
    "anno_count = len(annos['key'].unique())\n",
    "print(f\"We have a total of {region_count} regions\")\n",
    "print(f\"We annotated {anno_count} regions\")\n",
    "print(f\"With a total of {len(annos)} annotations...\")\n",
    "total_anno_span = (annos[\"end\"] - annos[\"start\"]).sum()\n",
    "print(f\"... spanning {total_anno_span}bp\")\n",
    "print(\"Annotation percent %.2f%%\" % (anno_count / region_count * 100))"
   ]
  },
  {
   "cell_type": "code",
   "execution_count": null,
   "id": "floating-promotion",
   "metadata": {},
   "outputs": [],
   "source": [
    "# Number of annotations per-regions\n",
    "\n",
    "annos_per_region = annos.groupby('key').size()\n",
    "labels = [\"1\", \"[2,5)\", \"[5,10)\", \"10+\"]\n",
    "bins = pd.cut(annos_per_region, bins=[1, 2, 5, 10, 200], labels=labels, right=False )\n",
    "view = pd.concat([annos_per_region, bins], axis=1)\n",
    "view.columns = [\"Count\", \"Bin\"]\n",
    "p = sb.countplot(data=view, x=\"Bin\")\n",
    "hide = p.set(title=\"Number of annotations per-region\", xlabel=\"Number of Annotations\", ylabel=\"Region Count\")"
   ]
  },
  {
   "cell_type": "code",
   "execution_count": null,
   "id": "artificial-trademark",
   "metadata": {},
   "outputs": [],
   "source": [
    "regions_with_gt1 = (annos.groupby('key').size() > 1).sum()\n",
    "print(f\"We have {regions_with_gt1} regions with more than one TRF entry\")"
   ]
  },
  {
   "cell_type": "markdown",
   "id": "aerial-advertising",
   "metadata": {},
   "source": [
    "# Source to regions summary\n",
    "How many of the source's merged.bed regions hit the tr_regions.bed"
   ]
  },
  {
   "cell_type": "code",
   "execution_count": null,
   "id": "individual-johnson",
   "metadata": {},
   "outputs": [],
   "source": [
    "inter = joblib.load(\"../data/intersection.jl\")"
   ]
  },
  {
   "cell_type": "code",
   "execution_count": null,
   "id": "amended-notebook",
   "metadata": {},
   "outputs": [],
   "source": [
    "# Counts of intersection\n",
    "summary_of_intersection = inter[inter['intersection'] != 0].groupby(['source', 'ro'])['count'].sum().unstack()"
   ]
  },
  {
   "cell_type": "code",
   "execution_count": null,
   "id": "included-episode",
   "metadata": {},
   "outputs": [],
   "source": [
    "input_counts = data[['source', 'kept_count']].copy().set_index(\"source\")\n",
    "input_counts.columns = ['input_count']\n",
    "summary_of_intersection = summary_of_intersection.join(input_counts, how='left')\n",
    "summary_of_intersection.columns = ['in_tr_regions', 'in_tr_regions (50%ro)', 'input_count']\n",
    "\n",
    "summary_of_intersection['pct_in'] = summary_of_intersection['in_tr_regions'] / summary_of_intersection['input_count']\n",
    "summary_of_intersection['pct_in(50)'] = summary_of_intersection['in_tr_regions (50%ro)'] / summary_of_intersection['input_count']\n",
    "summary_of_intersection"
   ]
  },
  {
   "cell_type": "code",
   "execution_count": null,
   "id": "bright-enclosure",
   "metadata": {},
   "outputs": [],
   "source": [
    "# And I want to do this again but with the annotated hits.\n",
    "# This is harder because merged vs unmerged..."
   ]
  },
  {
   "cell_type": "code",
   "execution_count": null,
   "id": "automotive-supplement",
   "metadata": {},
   "outputs": [],
   "source": [
    "# Separate out regions that don't have annotations\n",
    "# I'd lke to "
   ]
  }
 ],
 "metadata": {
  "kernelspec": {
   "display_name": "Python 3 (ipykernel)",
   "language": "python",
   "name": "python3"
  },
  "language_info": {
   "codemirror_mode": {
    "name": "ipython",
    "version": 3
   },
   "file_extension": ".py",
   "mimetype": "text/x-python",
   "name": "python",
   "nbconvert_exporter": "python",
   "pygments_lexer": "ipython3",
   "version": "3.10.12"
  }
 },
 "nbformat": 4,
 "nbformat_minor": 5
}
